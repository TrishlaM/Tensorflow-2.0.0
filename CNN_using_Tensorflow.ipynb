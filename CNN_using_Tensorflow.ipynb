{
  "nbformat": 4,
  "nbformat_minor": 0,
  "metadata": {
    "colab": {
      "name": "CNN using Tensorflow.ipynb",
      "provenance": [],
      "collapsed_sections": [],
      "authorship_tag": "ABX9TyP70HlUvZiHqn7u1nE/xDZd",
      "include_colab_link": true
    },
    "kernelspec": {
      "name": "python3",
      "display_name": "Python 3"
    },
    "accelerator": "GPU"
  },
  "cells": [
    {
      "cell_type": "markdown",
      "metadata": {
        "id": "view-in-github",
        "colab_type": "text"
      },
      "source": [
        "<a href=\"https://colab.research.google.com/github/TrishlaM/Tensorflow-2.0.0/blob/master/CNN_using_Tensorflow.ipynb\" target=\"_parent\"><img src=\"https://colab.research.google.com/assets/colab-badge.svg\" alt=\"Open In Colab\"/></a>"
      ]
    },
    {
      "cell_type": "markdown",
      "metadata": {
        "id": "T4HZTtly9dlX",
        "colab_type": "text"
      },
      "source": [
        "# **Importing the libraries**"
      ]
    },
    {
      "cell_type": "code",
      "metadata": {
        "id": "3TBv9nKQ9UYg",
        "colab_type": "code",
        "outputId": "8084763e-fac3-41ae-a503-469c2ac108ce",
        "colab": {
          "base_uri": "https://localhost:8080/",
          "height": 35
        }
      },
      "source": [
        "import tensorflow as tf\n",
        "import matplotlib.pyplot as plt\n",
        "\n",
        "from tensorflow.keras.datasets import cifar10\n",
        "\n",
        "%matplotlib inline\n",
        "tf.__version__"
      ],
      "execution_count": 1,
      "outputs": [
        {
          "output_type": "execute_result",
          "data": {
            "text/plain": [
              "'2.2.0-rc3'"
            ]
          },
          "metadata": {
            "tags": []
          },
          "execution_count": 1
        }
      ]
    },
    {
      "cell_type": "markdown",
      "metadata": {
        "id": "WRJbb_-A9nF9",
        "colab_type": "text"
      },
      "source": [
        "# **Data preprocessing**"
      ]
    },
    {
      "cell_type": "code",
      "metadata": {
        "id": "znDJmceJ9X8u",
        "colab_type": "code",
        "colab": {
          "base_uri": "https://localhost:8080/",
          "height": 52
        },
        "outputId": "74f02d03-65a1-4b2b-fd96-cb0e04bdc470"
      },
      "source": [
        "#Loading the dataset\n",
        "\n",
        "class_names  = ['airplane', 'automobile', 'bird', 'cat', 'deer', 'dog', 'frog', 'horse', 'ship', 'truck']\n",
        "(X_train, y_train), (X_test, y_test) = cifar10.load_data()"
      ],
      "execution_count": 2,
      "outputs": [
        {
          "output_type": "stream",
          "text": [
            "Downloading data from https://www.cs.toronto.edu/~kriz/cifar-10-python.tar.gz\n",
            "170500096/170498071 [==============================] - 4s 0us/step\n"
          ],
          "name": "stdout"
        }
      ]
    },
    {
      "cell_type": "code",
      "metadata": {
        "id": "KGmyjidK-DN0",
        "colab_type": "code",
        "outputId": "7a5a8c2e-4535-41e6-a782-108fc696edd2",
        "colab": {
          "base_uri": "https://localhost:8080/",
          "height": 284
        }
      },
      "source": [
        "#Image normalization\n",
        "\n",
        "X_train = X_train/255\n",
        "X_test = X_test/255\n",
        "\n",
        "plt.imshow(X_train[2])"
      ],
      "execution_count": 3,
      "outputs": [
        {
          "output_type": "execute_result",
          "data": {
            "text/plain": [
              "<matplotlib.image.AxesImage at 0x7fba2f344f98>"
            ]
          },
          "metadata": {
            "tags": []
          },
          "execution_count": 3
        },
        {
          "output_type": "display_data",
          "data": {
            "image/png": "[encoded data removed]",
            "text/plain": [
              "<Figure size 432x288 with 1 Axes>"
            ]
          },
          "metadata": {
            "tags": [],
            "needs_background": "light"
          }
        }
      ]
    },
    {
      "cell_type": "code",
      "metadata": {
        "id": "MkpoJgdk-cyL",
        "colab_type": "code",
        "outputId": "c80734f9-85aa-46e9-9a51-26461baa3f8d",
        "colab": {
          "base_uri": "https://localhost:8080/",
          "height": 35
        }
      },
      "source": [
        "X_train.shape"
      ],
      "execution_count": 4,
      "outputs": [
        {
          "output_type": "execute_result",
          "data": {
            "text/plain": [
              "(50000, 32, 32, 3)"
            ]
          },
          "metadata": {
            "tags": []
          },
          "execution_count": 4
        }
      ]
    },
    {
      "cell_type": "code",
      "metadata": {
        "id": "1skhisiB-j8K",
        "colab_type": "code",
        "colab": {}
      },
      "source": [
        ""
      ],
      "execution_count": 0,
      "outputs": []
    },
    {
      "cell_type": "markdown",
      "metadata": {
        "id": "8rFBDFM4dPQv",
        "colab_type": "text"
      },
      "source": [
        "# **Building a convolution neural network**"
      ]
    },
    {
      "cell_type": "markdown",
      "metadata": {
        "id": "fOBYb81adZpe",
        "colab_type": "text"
      },
      "source": [
        "**Defining the model**"
      ]
    },
    {
      "cell_type": "code",
      "metadata": {
        "id": "DUwbK4hzdc0S",
        "colab_type": "code",
        "colab": {}
      },
      "source": [
        "model = tf.keras.models.Sequential()"
      ],
      "execution_count": 0,
      "outputs": []
    },
    {
      "cell_type": "markdown",
      "metadata": {
        "id": "7Z7gYofFENyd",
        "colab_type": "text"
      },
      "source": [
        "**Adding the first convolutional layer**"
      ]
    },
    {
      "cell_type": "markdown",
      "metadata": {
        "id": "AaV3AguOEVKO",
        "colab_type": "text"
      },
      "source": [
        "Hyperparameters :\n",
        "\n",
        "1.   filters = 32\n",
        "2.   kernel_size = 3\n",
        "3.   padding = same\n",
        "4.   activation = relu\n",
        "5.   input shape = (32, 32, 3)\n",
        "\n"
      ]
    },
    {
      "cell_type": "code",
      "metadata": {
        "id": "XQ3zjwumEKxv",
        "colab_type": "code",
        "colab": {}
      },
      "source": [
        "model.add(tf.keras.layers.Conv2D(filters = 32, kernel_size = 3, padding = \"same\", activation = \"relu\", input_shape = [32, 32, 3]))"
      ],
      "execution_count": 0,
      "outputs": []
    },
    {
      "cell_type": "markdown",
      "metadata": {
        "id": "2Ogsh3XwSkd5",
        "colab_type": "text"
      },
      "source": [
        "**Adding the second convolutional layer and the max pooling layer**"
      ]
    },
    {
      "cell_type": "markdown",
      "metadata": {
        "id": "lxuIOHBTSuj9",
        "colab_type": "text"
      },
      "source": [
        "Hyperparameters - CNN layer :\n",
        "\n",
        "1.   filters = 32\n",
        "2.   kernel_size = 3\n",
        "3.   padding = same\n",
        "4.   activation = relu\n",
        "\n",
        "Hyperparameters - Pooling layer :\n",
        "\n",
        "1.   pool size = 2\n",
        "2.   strides = 2\n",
        "3.   padding = valid\n"
      ]
    },
    {
      "cell_type": "code",
      "metadata": {
        "id": "x33wJ1StR_RI",
        "colab_type": "code",
        "colab": {}
      },
      "source": [
        "model.add(tf.keras.layers.Conv2D(filters = 32, kernel_size = 3, padding = \"same\", activation = \"relu\"))"
      ],
      "execution_count": 0,
      "outputs": []
    },
    {
      "cell_type": "code",
      "metadata": {
        "id": "HNiNYUJ6TKb2",
        "colab_type": "code",
        "colab": {}
      },
      "source": [
        "model.add(tf.keras.layers.MaxPool2D(pool_size = 2, strides = 2, padding = \"valid\"))"
      ],
      "execution_count": 0,
      "outputs": []
    },
    {
      "cell_type": "markdown",
      "metadata": {
        "id": "YXC8YhwPTeQB",
        "colab_type": "text"
      },
      "source": [
        "**Adding the third convolutional layer**\n",
        "\n",
        "Hyperparameters - CNN layer :\n",
        "\n",
        "1.   filters = 64\n",
        "2.   kernel_size = 3\n",
        "3.   padding = same\n",
        "4.   activation = relu\n",
        "5.   input_shape = (32, 32, 3)\n",
        "\n"
      ]
    },
    {
      "cell_type": "code",
      "metadata": {
        "id": "KRb6wB8DTXMN",
        "colab_type": "code",
        "colab": {}
      },
      "source": [
        "model.add(tf.keras.layers.Conv2D(filters = 64, kernel_size = 3, padding = \"same\", activation = \"relu\"))"
      ],
      "execution_count": 0,
      "outputs": []
    },
    {
      "cell_type": "markdown",
      "metadata": {
        "id": "ZT9_gnAfT_tR",
        "colab_type": "text"
      },
      "source": [
        "**Adding the fourth convolutional layer and max-pooling layer**\n",
        "\n",
        "Hyperparameters - CNN layer :\n",
        "\n",
        "1.   filters = 64\n",
        "2.   kernel_size = 3\n",
        "3.   padding = same\n",
        "4.   activation = relu\n",
        "\n",
        "Hyperparameters - Pooling layer :\n",
        "\n",
        "1.   pool size = 2\n",
        "2.   strides = 2\n",
        "3.   padding = valid"
      ]
    },
    {
      "cell_type": "code",
      "metadata": {
        "id": "URd2cCxiT94V",
        "colab_type": "code",
        "colab": {}
      },
      "source": [
        "model.add(tf.keras.layers.Conv2D(filters = 64, kernel_size = 3, padding = \"same\", activation = \"relu\"))"
      ],
      "execution_count": 0,
      "outputs": []
    },
    {
      "cell_type": "code",
      "metadata": {
        "id": "1Kd8Nw6oUcct",
        "colab_type": "code",
        "colab": {}
      },
      "source": [
        "model.add(tf.keras.layers.MaxPool2D(pool_size = 2, strides = 2, padding = \"valid\"))"
      ],
      "execution_count": 0,
      "outputs": []
    },
    {
      "cell_type": "markdown",
      "metadata": {
        "id": "cl0OwUNmU0WF",
        "colab_type": "text"
      },
      "source": [
        "**Adding the flattening layer**\n"
      ]
    },
    {
      "cell_type": "code",
      "metadata": {
        "id": "e5vvF2L4U4ek",
        "colab_type": "code",
        "colab": {}
      },
      "source": [
        "model.add(tf.keras.layers.Flatten())"
      ],
      "execution_count": 0,
      "outputs": []
    },
    {
      "cell_type": "code",
      "metadata": {
        "id": "5qmJzp7YU_r0",
        "colab_type": "code",
        "colab": {}
      },
      "source": [
        ""
      ],
      "execution_count": 0,
      "outputs": []
    },
    {
      "cell_type": "markdown",
      "metadata": {
        "id": "YZ7s7V_ZVAfS",
        "colab_type": "text"
      },
      "source": [
        "**Adding the first fully connected layer**"
      ]
    },
    {
      "cell_type": "code",
      "metadata": {
        "id": "gsbkPN9AVEEl",
        "colab_type": "code",
        "colab": {}
      },
      "source": [
        "model.add(tf.keras.layers.Dense(units = 128, activation = \"relu\"))"
      ],
      "execution_count": 0,
      "outputs": []
    },
    {
      "cell_type": "markdown",
      "metadata": {
        "id": "y7EG9dlEVkF2",
        "colab_type": "text"
      },
      "source": [
        "**Adding the output layer**\n",
        "\n",
        "Hyperparameters \n",
        "1.  Neurons = 10 - total no. of classes\n",
        "2. .activation = softmax"
      ]
    },
    {
      "cell_type": "code",
      "metadata": {
        "id": "E5Rxxjv2VnJL",
        "colab_type": "code",
        "colab": {}
      },
      "source": [
        "model.add(tf.keras.layers.Dense(units = 10, activation = 'softmax'))"
      ],
      "execution_count": 0,
      "outputs": []
    },
    {
      "cell_type": "code",
      "metadata": {
        "id": "bbCe4LaJV3tY",
        "colab_type": "code",
        "colab": {
          "base_uri": "https://localhost:8080/",
          "height": 479
        },
        "outputId": "107c6d49-f809-416c-f168-2018c4b7ea4b"
      },
      "source": [
        "model.summary()"
      ],
      "execution_count": 17,
      "outputs": [
        {
          "output_type": "stream",
          "text": [
            "Model: \"sequential\"\n",
            "_________________________________________________________________\n",
            "Layer (type)                 Output Shape              Param #   \n",
            "=================================================================\n",
            "conv2d (Conv2D)              (None, 32, 32, 32)        896       \n",
            "_________________________________________________________________\n",
            "conv2d_1 (Conv2D)            (None, 32, 32, 32)        9248      \n",
            "_________________________________________________________________\n",
            "max_pooling2d (MaxPooling2D) (None, 16, 16, 32)        0         \n",
            "_________________________________________________________________\n",
            "conv2d_2 (Conv2D)            (None, 16, 16, 64)        18496     \n",
            "_________________________________________________________________\n",
            "conv2d_3 (Conv2D)            (None, 16, 16, 64)        36928     \n",
            "_________________________________________________________________\n",
            "max_pooling2d_1 (MaxPooling2 (None, 8, 8, 64)          0         \n",
            "_________________________________________________________________\n",
            "flatten (Flatten)            (None, 4096)              0         \n",
            "_________________________________________________________________\n",
            "dense (Dense)                (None, 128)               524416    \n",
            "_________________________________________________________________\n",
            "dense_1 (Dense)              (None, 10)                1290      \n",
            "=================================================================\n",
            "Total params: 591,274\n",
            "Trainable params: 591,274\n",
            "Non-trainable params: 0\n",
            "_________________________________________________________________\n"
          ],
          "name": "stdout"
        }
      ]
    },
    {
      "cell_type": "markdown",
      "metadata": {
        "id": "BqIRo3OsWE4U",
        "colab_type": "text"
      },
      "source": [
        "**Compile the model**"
      ]
    },
    {
      "cell_type": "code",
      "metadata": {
        "id": "pgmTn38rWG27",
        "colab_type": "code",
        "colab": {}
      },
      "source": [
        "model.compile(loss = \"sparse_categorical_crossentropy\", optimizer = \"Adam\", metrics = \"sparse_categorical_accuracy\")"
      ],
      "execution_count": 0,
      "outputs": []
    },
    {
      "cell_type": "code",
      "metadata": {
        "id": "aO9GE_aGWVSJ",
        "colab_type": "code",
        "colab": {
          "base_uri": "https://localhost:8080/",
          "height": 479
        },
        "outputId": "e052df42-33b9-46f1-eaa9-5da73aab9da6"
      },
      "source": [
        "model.summary()"
      ],
      "execution_count": 19,
      "outputs": [
        {
          "output_type": "stream",
          "text": [
            "Model: \"sequential\"\n",
            "_________________________________________________________________\n",
            "Layer (type)                 Output Shape              Param #   \n",
            "=================================================================\n",
            "conv2d (Conv2D)              (None, 32, 32, 32)        896       \n",
            "_________________________________________________________________\n",
            "conv2d_1 (Conv2D)            (None, 32, 32, 32)        9248      \n",
            "_________________________________________________________________\n",
            "max_pooling2d (MaxPooling2D) (None, 16, 16, 32)        0         \n",
            "_________________________________________________________________\n",
            "conv2d_2 (Conv2D)            (None, 16, 16, 64)        18496     \n",
            "_________________________________________________________________\n",
            "conv2d_3 (Conv2D)            (None, 16, 16, 64)        36928     \n",
            "_________________________________________________________________\n",
            "max_pooling2d_1 (MaxPooling2 (None, 8, 8, 64)          0         \n",
            "_________________________________________________________________\n",
            "flatten (Flatten)            (None, 4096)              0         \n",
            "_________________________________________________________________\n",
            "dense (Dense)                (None, 128)               524416    \n",
            "_________________________________________________________________\n",
            "dense_1 (Dense)              (None, 10)                1290      \n",
            "=================================================================\n",
            "Total params: 591,274\n",
            "Trainable params: 591,274\n",
            "Non-trainable params: 0\n",
            "_________________________________________________________________\n"
          ],
          "name": "stdout"
        }
      ]
    },
    {
      "cell_type": "markdown",
      "metadata": {
        "id": "_6NDgf0XWfOh",
        "colab_type": "text"
      },
      "source": [
        "**Train the model**"
      ]
    },
    {
      "cell_type": "code",
      "metadata": {
        "id": "8besYbckWXi0",
        "colab_type": "code",
        "colab": {
          "base_uri": "https://localhost:8080/",
          "height": 1000
        },
        "outputId": "3a40f5d4-4f40-4852-ebce-7d3a541be98f"
      },
      "source": [
        "model.fit(X_train, y_train, epochs = 200, batch_size = 5000)"
      ],
      "execution_count": 20,
      "outputs": [
        {
          "output_type": "stream",
          "text": [
            "Epoch 1/200\n",
            "10/10 [==============================] - 2s 163ms/step - loss: 2.1846 - sparse_categorical_accuracy: 0.2034\n",
            "Epoch 2/200\n",
            "10/10 [==============================] - 2s 166ms/step - loss: 1.8951 - sparse_categorical_accuracy: 0.3346\n",
            "Epoch 3/200\n",
            "10/10 [==============================] - 2s 166ms/step - loss: 1.7223 - sparse_categorical_accuracy: 0.3942\n",
            "Epoch 4/200\n",
            "10/10 [==============================] - 2s 168ms/step - loss: 1.6047 - sparse_categorical_accuracy: 0.4348\n",
            "Epoch 5/200\n",
            "10/10 [==============================] - 2s 161ms/step - loss: 1.5352 - sparse_categorical_accuracy: 0.4560\n",
            "Epoch 6/200\n",
            "10/10 [==============================] - 2s 162ms/step - loss: 1.4520 - sparse_categorical_accuracy: 0.4828\n",
            "Epoch 7/200\n",
            "10/10 [==============================] - 2s 166ms/step - loss: 1.3973 - sparse_categorical_accuracy: 0.5040\n",
            "Epoch 8/200\n",
            "10/10 [==============================] - 2s 168ms/step - loss: 1.3682 - sparse_categorical_accuracy: 0.5110\n",
            "Epoch 9/200\n",
            "10/10 [==============================] - 2s 166ms/step - loss: 1.3130 - sparse_categorical_accuracy: 0.5350\n",
            "Epoch 10/200\n",
            "10/10 [==============================] - 2s 163ms/step - loss: 1.3015 - sparse_categorical_accuracy: 0.5417\n",
            "Epoch 11/200\n",
            "10/10 [==============================] - 2s 165ms/step - loss: 1.2652 - sparse_categorical_accuracy: 0.5523\n",
            "Epoch 12/200\n",
            "10/10 [==============================] - 2s 163ms/step - loss: 1.2264 - sparse_categorical_accuracy: 0.5682\n",
            "Epoch 13/200\n",
            "10/10 [==============================] - 2s 166ms/step - loss: 1.1987 - sparse_categorical_accuracy: 0.5793\n",
            "Epoch 14/200\n",
            "10/10 [==============================] - 2s 163ms/step - loss: 1.2072 - sparse_categorical_accuracy: 0.5777\n",
            "Epoch 15/200\n",
            "10/10 [==============================] - 2s 164ms/step - loss: 1.1544 - sparse_categorical_accuracy: 0.5951\n",
            "Epoch 16/200\n",
            "10/10 [==============================] - 2s 164ms/step - loss: 1.1283 - sparse_categorical_accuracy: 0.6040\n",
            "Epoch 17/200\n",
            "10/10 [==============================] - 2s 166ms/step - loss: 1.0966 - sparse_categorical_accuracy: 0.6169\n",
            "Epoch 18/200\n",
            "10/10 [==============================] - 2s 167ms/step - loss: 1.0711 - sparse_categorical_accuracy: 0.6265\n",
            "Epoch 19/200\n",
            "10/10 [==============================] - 2s 166ms/step - loss: 1.0657 - sparse_categorical_accuracy: 0.6276\n",
            "Epoch 20/200\n",
            "10/10 [==============================] - 2s 164ms/step - loss: 1.0521 - sparse_categorical_accuracy: 0.6313\n",
            "Epoch 21/200\n",
            "10/10 [==============================] - 2s 165ms/step - loss: 1.0194 - sparse_categorical_accuracy: 0.6449\n",
            "Epoch 22/200\n",
            "10/10 [==============================] - 2s 161ms/step - loss: 1.0029 - sparse_categorical_accuracy: 0.6505\n",
            "Epoch 23/200\n",
            "10/10 [==============================] - 2s 164ms/step - loss: 0.9965 - sparse_categorical_accuracy: 0.6522\n",
            "Epoch 24/200\n",
            "10/10 [==============================] - 2s 167ms/step - loss: 0.9903 - sparse_categorical_accuracy: 0.6548\n",
            "Epoch 25/200\n",
            "10/10 [==============================] - 2s 165ms/step - loss: 0.9719 - sparse_categorical_accuracy: 0.6628\n",
            "Epoch 26/200\n",
            "10/10 [==============================] - 2s 163ms/step - loss: 0.9486 - sparse_categorical_accuracy: 0.6722\n",
            "Epoch 27/200\n",
            "10/10 [==============================] - 2s 164ms/step - loss: 0.9490 - sparse_categorical_accuracy: 0.6695\n",
            "Epoch 28/200\n",
            "10/10 [==============================] - 2s 170ms/step - loss: 0.9263 - sparse_categorical_accuracy: 0.6786\n",
            "Epoch 29/200\n",
            "10/10 [==============================] - 2s 166ms/step - loss: 0.9117 - sparse_categorical_accuracy: 0.6847\n",
            "Epoch 30/200\n",
            "10/10 [==============================] - 2s 166ms/step - loss: 0.8901 - sparse_categorical_accuracy: 0.6910\n",
            "Epoch 31/200\n",
            "10/10 [==============================] - 2s 168ms/step - loss: 0.8808 - sparse_categorical_accuracy: 0.6949\n",
            "Epoch 32/200\n",
            "10/10 [==============================] - 2s 165ms/step - loss: 0.8855 - sparse_categorical_accuracy: 0.6927\n",
            "Epoch 33/200\n",
            "10/10 [==============================] - 2s 166ms/step - loss: 0.8817 - sparse_categorical_accuracy: 0.6946\n",
            "Epoch 34/200\n",
            "10/10 [==============================] - 2s 165ms/step - loss: 0.8775 - sparse_categorical_accuracy: 0.6958\n",
            "Epoch 35/200\n",
            "10/10 [==============================] - 2s 167ms/step - loss: 0.8526 - sparse_categorical_accuracy: 0.7055\n",
            "Epoch 36/200\n",
            "10/10 [==============================] - 2s 164ms/step - loss: 0.8447 - sparse_categorical_accuracy: 0.7085\n",
            "Epoch 37/200\n",
            "10/10 [==============================] - 2s 164ms/step - loss: 0.8242 - sparse_categorical_accuracy: 0.7156\n",
            "Epoch 38/200\n",
            "10/10 [==============================] - 2s 166ms/step - loss: 0.8080 - sparse_categorical_accuracy: 0.7208\n",
            "Epoch 39/200\n",
            "10/10 [==============================] - 2s 166ms/step - loss: 0.7979 - sparse_categorical_accuracy: 0.7248\n",
            "Epoch 40/200\n",
            "10/10 [==============================] - 2s 167ms/step - loss: 0.7976 - sparse_categorical_accuracy: 0.7242\n",
            "Epoch 41/200\n",
            "10/10 [==============================] - 2s 165ms/step - loss: 0.7851 - sparse_categorical_accuracy: 0.7312\n",
            "Epoch 42/200\n",
            "10/10 [==============================] - 2s 166ms/step - loss: 0.7791 - sparse_categorical_accuracy: 0.7309\n",
            "Epoch 43/200\n",
            "10/10 [==============================] - 2s 166ms/step - loss: 0.7869 - sparse_categorical_accuracy: 0.7283\n",
            "Epoch 44/200\n",
            "10/10 [==============================] - 2s 164ms/step - loss: 0.7724 - sparse_categorical_accuracy: 0.7347\n",
            "Epoch 45/200\n",
            "10/10 [==============================] - 2s 163ms/step - loss: 0.7554 - sparse_categorical_accuracy: 0.7397\n",
            "Epoch 46/200\n",
            "10/10 [==============================] - 2s 168ms/step - loss: 0.7897 - sparse_categorical_accuracy: 0.7260\n",
            "Epoch 47/200\n",
            "10/10 [==============================] - 2s 165ms/step - loss: 0.7509 - sparse_categorical_accuracy: 0.7428\n",
            "Epoch 48/200\n",
            "10/10 [==============================] - 2s 166ms/step - loss: 0.7269 - sparse_categorical_accuracy: 0.7497\n",
            "Epoch 49/200\n",
            "10/10 [==============================] - 2s 164ms/step - loss: 0.7099 - sparse_categorical_accuracy: 0.7571\n",
            "Epoch 50/200\n",
            "10/10 [==============================] - 2s 166ms/step - loss: 0.7054 - sparse_categorical_accuracy: 0.7572\n",
            "Epoch 51/200\n",
            "10/10 [==============================] - 2s 163ms/step - loss: 0.7017 - sparse_categorical_accuracy: 0.7593\n",
            "Epoch 52/200\n",
            "10/10 [==============================] - 2s 163ms/step - loss: 0.7027 - sparse_categorical_accuracy: 0.7588\n",
            "Epoch 53/200\n",
            "10/10 [==============================] - 2s 165ms/step - loss: 0.6896 - sparse_categorical_accuracy: 0.7658\n",
            "Epoch 54/200\n",
            "10/10 [==============================] - 2s 164ms/step - loss: 0.6697 - sparse_categorical_accuracy: 0.7712\n",
            "Epoch 55/200\n",
            "10/10 [==============================] - 2s 165ms/step - loss: 0.6578 - sparse_categorical_accuracy: 0.7752\n",
            "Epoch 56/200\n",
            "10/10 [==============================] - 2s 167ms/step - loss: 0.6685 - sparse_categorical_accuracy: 0.7704\n",
            "Epoch 57/200\n",
            "10/10 [==============================] - 2s 164ms/step - loss: 0.6839 - sparse_categorical_accuracy: 0.7670\n",
            "Epoch 58/200\n",
            "10/10 [==============================] - 2s 166ms/step - loss: 0.6786 - sparse_categorical_accuracy: 0.7645\n",
            "Epoch 59/200\n",
            "10/10 [==============================] - 2s 169ms/step - loss: 0.6504 - sparse_categorical_accuracy: 0.7773\n",
            "Epoch 60/200\n",
            "10/10 [==============================] - 2s 165ms/step - loss: 0.6353 - sparse_categorical_accuracy: 0.7834\n",
            "Epoch 61/200\n",
            "10/10 [==============================] - 2s 164ms/step - loss: 0.6277 - sparse_categorical_accuracy: 0.7852\n",
            "Epoch 62/200\n",
            "10/10 [==============================] - 2s 168ms/step - loss: 0.6177 - sparse_categorical_accuracy: 0.7877\n",
            "Epoch 63/200\n",
            "10/10 [==============================] - 2s 168ms/step - loss: 0.6065 - sparse_categorical_accuracy: 0.7936\n",
            "Epoch 64/200\n",
            "10/10 [==============================] - 2s 167ms/step - loss: 0.5978 - sparse_categorical_accuracy: 0.7972\n",
            "Epoch 65/200\n",
            "10/10 [==============================] - 2s 166ms/step - loss: 0.6187 - sparse_categorical_accuracy: 0.7873\n",
            "Epoch 66/200\n",
            "10/10 [==============================] - 2s 164ms/step - loss: 0.5998 - sparse_categorical_accuracy: 0.7939\n",
            "Epoch 67/200\n",
            "10/10 [==============================] - 2s 169ms/step - loss: 0.5772 - sparse_categorical_accuracy: 0.8016\n",
            "Epoch 68/200\n",
            "10/10 [==============================] - 2s 164ms/step - loss: 0.5937 - sparse_categorical_accuracy: 0.7965\n",
            "Epoch 69/200\n",
            "10/10 [==============================] - 2s 165ms/step - loss: 0.5717 - sparse_categorical_accuracy: 0.8061\n",
            "Epoch 70/200\n",
            "10/10 [==============================] - 2s 165ms/step - loss: 0.5715 - sparse_categorical_accuracy: 0.8041\n",
            "Epoch 71/200\n",
            "10/10 [==============================] - 2s 165ms/step - loss: 0.5545 - sparse_categorical_accuracy: 0.8113\n",
            "Epoch 72/200\n",
            "10/10 [==============================] - 2s 162ms/step - loss: 0.5441 - sparse_categorical_accuracy: 0.8176\n",
            "Epoch 73/200\n",
            "10/10 [==============================] - 2s 167ms/step - loss: 0.5486 - sparse_categorical_accuracy: 0.8122\n",
            "Epoch 74/200\n",
            "10/10 [==============================] - 2s 166ms/step - loss: 0.5431 - sparse_categorical_accuracy: 0.8149\n",
            "Epoch 75/200\n",
            "10/10 [==============================] - 2s 169ms/step - loss: 0.5453 - sparse_categorical_accuracy: 0.8118\n",
            "Epoch 76/200\n",
            "10/10 [==============================] - 2s 166ms/step - loss: 0.5458 - sparse_categorical_accuracy: 0.8128\n",
            "Epoch 77/200\n",
            "10/10 [==============================] - 2s 167ms/step - loss: 0.5255 - sparse_categorical_accuracy: 0.8199\n",
            "Epoch 78/200\n",
            "10/10 [==============================] - 2s 164ms/step - loss: 0.4993 - sparse_categorical_accuracy: 0.8324\n",
            "Epoch 79/200\n",
            "10/10 [==============================] - 2s 165ms/step - loss: 0.4949 - sparse_categorical_accuracy: 0.8334\n",
            "Epoch 80/200\n",
            "10/10 [==============================] - 2s 163ms/step - loss: 0.5003 - sparse_categorical_accuracy: 0.8282\n",
            "Epoch 81/200\n",
            "10/10 [==============================] - 2s 167ms/step - loss: 0.4922 - sparse_categorical_accuracy: 0.8334\n",
            "Epoch 82/200\n",
            "10/10 [==============================] - 2s 168ms/step - loss: 0.4822 - sparse_categorical_accuracy: 0.8376\n",
            "Epoch 83/200\n",
            "10/10 [==============================] - 2s 165ms/step - loss: 0.4841 - sparse_categorical_accuracy: 0.8365\n",
            "Epoch 84/200\n",
            "10/10 [==============================] - 2s 170ms/step - loss: 0.5130 - sparse_categorical_accuracy: 0.8221\n",
            "Epoch 85/200\n",
            "10/10 [==============================] - 2s 165ms/step - loss: 0.4796 - sparse_categorical_accuracy: 0.8377\n",
            "Epoch 86/200\n",
            "10/10 [==============================] - 2s 166ms/step - loss: 0.4538 - sparse_categorical_accuracy: 0.8473\n",
            "Epoch 87/200\n",
            "10/10 [==============================] - 2s 166ms/step - loss: 0.4540 - sparse_categorical_accuracy: 0.8482\n",
            "Epoch 88/200\n",
            "10/10 [==============================] - 2s 166ms/step - loss: 0.4589 - sparse_categorical_accuracy: 0.8431\n",
            "Epoch 89/200\n",
            "10/10 [==============================] - 2s 165ms/step - loss: 0.4794 - sparse_categorical_accuracy: 0.8331\n",
            "Epoch 90/200\n",
            "10/10 [==============================] - 2s 165ms/step - loss: 0.4473 - sparse_categorical_accuracy: 0.8475\n",
            "Epoch 91/200\n",
            "10/10 [==============================] - 2s 168ms/step - loss: 0.4347 - sparse_categorical_accuracy: 0.8542\n",
            "Epoch 92/200\n",
            "10/10 [==============================] - 2s 166ms/step - loss: 0.4141 - sparse_categorical_accuracy: 0.8630\n",
            "Epoch 93/200\n",
            "10/10 [==============================] - 2s 164ms/step - loss: 0.4065 - sparse_categorical_accuracy: 0.8656\n",
            "Epoch 94/200\n",
            "10/10 [==============================] - 2s 168ms/step - loss: 0.3954 - sparse_categorical_accuracy: 0.8695\n",
            "Epoch 95/200\n",
            "10/10 [==============================] - 2s 168ms/step - loss: 0.4011 - sparse_categorical_accuracy: 0.8651\n",
            "Epoch 96/200\n",
            "10/10 [==============================] - 2s 165ms/step - loss: 0.3944 - sparse_categorical_accuracy: 0.8682\n",
            "Epoch 97/200\n",
            "10/10 [==============================] - 2s 162ms/step - loss: 0.3860 - sparse_categorical_accuracy: 0.8707\n",
            "Epoch 98/200\n",
            "10/10 [==============================] - 2s 166ms/step - loss: 0.4654 - sparse_categorical_accuracy: 0.8373\n",
            "Epoch 99/200\n",
            "10/10 [==============================] - 2s 166ms/step - loss: 0.4536 - sparse_categorical_accuracy: 0.8425\n",
            "Epoch 100/200\n",
            "10/10 [==============================] - 2s 169ms/step - loss: 0.3926 - sparse_categorical_accuracy: 0.8700\n",
            "Epoch 101/200\n",
            "10/10 [==============================] - 2s 165ms/step - loss: 0.3785 - sparse_categorical_accuracy: 0.8746\n",
            "Epoch 102/200\n",
            "10/10 [==============================] - 2s 163ms/step - loss: 0.3673 - sparse_categorical_accuracy: 0.8760\n",
            "Epoch 103/200\n",
            "10/10 [==============================] - 2s 166ms/step - loss: 0.3529 - sparse_categorical_accuracy: 0.8842\n",
            "Epoch 104/200\n",
            "10/10 [==============================] - 2s 167ms/step - loss: 0.3503 - sparse_categorical_accuracy: 0.8845\n",
            "Epoch 105/200\n",
            "10/10 [==============================] - 2s 164ms/step - loss: 0.3451 - sparse_categorical_accuracy: 0.8858\n",
            "Epoch 106/200\n",
            "10/10 [==============================] - 2s 163ms/step - loss: 0.3308 - sparse_categorical_accuracy: 0.8921\n",
            "Epoch 107/200\n",
            "10/10 [==============================] - 2s 167ms/step - loss: 0.3937 - sparse_categorical_accuracy: 0.8651\n",
            "Epoch 108/200\n",
            "10/10 [==============================] - 2s 164ms/step - loss: 0.4426 - sparse_categorical_accuracy: 0.8443\n",
            "Epoch 109/200\n",
            "10/10 [==============================] - 2s 167ms/step - loss: 0.3624 - sparse_categorical_accuracy: 0.8789\n",
            "Epoch 110/200\n",
            "10/10 [==============================] - 2s 169ms/step - loss: 0.3270 - sparse_categorical_accuracy: 0.8926\n",
            "Epoch 111/200\n",
            "10/10 [==============================] - 2s 164ms/step - loss: 0.3035 - sparse_categorical_accuracy: 0.9037\n",
            "Epoch 112/200\n",
            "10/10 [==============================] - 2s 166ms/step - loss: 0.2985 - sparse_categorical_accuracy: 0.9048\n",
            "Epoch 113/200\n",
            "10/10 [==============================] - 2s 167ms/step - loss: 0.3204 - sparse_categorical_accuracy: 0.8900\n",
            "Epoch 114/200\n",
            "10/10 [==============================] - 2s 166ms/step - loss: 0.2962 - sparse_categorical_accuracy: 0.9043\n",
            "Epoch 115/200\n",
            "10/10 [==============================] - 2s 165ms/step - loss: 0.2816 - sparse_categorical_accuracy: 0.9097\n",
            "Epoch 116/200\n",
            "10/10 [==============================] - 2s 166ms/step - loss: 0.2733 - sparse_categorical_accuracy: 0.9139\n",
            "Epoch 117/200\n",
            "10/10 [==============================] - 2s 167ms/step - loss: 0.2656 - sparse_categorical_accuracy: 0.9174\n",
            "Epoch 118/200\n",
            "10/10 [==============================] - 2s 164ms/step - loss: 0.2819 - sparse_categorical_accuracy: 0.9063\n",
            "Epoch 119/200\n",
            "10/10 [==============================] - 2s 166ms/step - loss: 0.2961 - sparse_categorical_accuracy: 0.9011\n",
            "Epoch 120/200\n",
            "10/10 [==============================] - 2s 165ms/step - loss: 0.3086 - sparse_categorical_accuracy: 0.8936\n",
            "Epoch 121/200\n",
            "10/10 [==============================] - 2s 165ms/step - loss: 0.3385 - sparse_categorical_accuracy: 0.8855\n",
            "Epoch 122/200\n",
            "10/10 [==============================] - 2s 169ms/step - loss: 0.2609 - sparse_categorical_accuracy: 0.9168\n",
            "Epoch 123/200\n",
            "10/10 [==============================] - 2s 164ms/step - loss: 0.2458 - sparse_categorical_accuracy: 0.9223\n",
            "Epoch 124/200\n",
            "10/10 [==============================] - 2s 168ms/step - loss: 0.2394 - sparse_categorical_accuracy: 0.9240\n",
            "Epoch 125/200\n",
            "10/10 [==============================] - 2s 163ms/step - loss: 0.2398 - sparse_categorical_accuracy: 0.9243\n",
            "Epoch 126/200\n",
            "10/10 [==============================] - 2s 167ms/step - loss: 0.2793 - sparse_categorical_accuracy: 0.9053\n",
            "Epoch 127/200\n",
            "10/10 [==============================] - 2s 164ms/step - loss: 0.3879 - sparse_categorical_accuracy: 0.8573\n",
            "Epoch 128/200\n",
            "10/10 [==============================] - 2s 164ms/step - loss: 0.2932 - sparse_categorical_accuracy: 0.8998\n",
            "Epoch 129/200\n",
            "10/10 [==============================] - 2s 169ms/step - loss: 0.2336 - sparse_categorical_accuracy: 0.9275\n",
            "Epoch 130/200\n",
            "10/10 [==============================] - 2s 164ms/step - loss: 0.2162 - sparse_categorical_accuracy: 0.9352\n",
            "Epoch 131/200\n",
            "10/10 [==============================] - 2s 163ms/step - loss: 0.1998 - sparse_categorical_accuracy: 0.9425\n",
            "Epoch 132/200\n",
            "10/10 [==============================] - 2s 166ms/step - loss: 0.1919 - sparse_categorical_accuracy: 0.9446\n",
            "Epoch 133/200\n",
            "10/10 [==============================] - 2s 165ms/step - loss: 0.1852 - sparse_categorical_accuracy: 0.9467\n",
            "Epoch 134/200\n",
            "10/10 [==============================] - 2s 161ms/step - loss: 0.2034 - sparse_categorical_accuracy: 0.9358\n",
            "Epoch 135/200\n",
            "10/10 [==============================] - 2s 169ms/step - loss: 0.2099 - sparse_categorical_accuracy: 0.9305\n",
            "Epoch 136/200\n",
            "10/10 [==============================] - 2s 163ms/step - loss: 0.3680 - sparse_categorical_accuracy: 0.8711\n",
            "Epoch 137/200\n",
            "10/10 [==============================] - 2s 168ms/step - loss: 0.2713 - sparse_categorical_accuracy: 0.9064\n",
            "Epoch 138/200\n",
            "10/10 [==============================] - 2s 168ms/step - loss: 0.2066 - sparse_categorical_accuracy: 0.9349\n",
            "Epoch 139/200\n",
            "10/10 [==============================] - 2s 163ms/step - loss: 0.1798 - sparse_categorical_accuracy: 0.9479\n",
            "Epoch 140/200\n",
            "10/10 [==============================] - 2s 165ms/step - loss: 0.1666 - sparse_categorical_accuracy: 0.9523\n",
            "Epoch 141/200\n",
            "10/10 [==============================] - 2s 164ms/step - loss: 0.1500 - sparse_categorical_accuracy: 0.9607\n",
            "Epoch 142/200\n",
            "10/10 [==============================] - 2s 167ms/step - loss: 0.1438 - sparse_categorical_accuracy: 0.9634\n",
            "Epoch 143/200\n",
            "10/10 [==============================] - 2s 168ms/step - loss: 0.1399 - sparse_categorical_accuracy: 0.9638\n",
            "Epoch 144/200\n",
            "10/10 [==============================] - 2s 164ms/step - loss: 0.1391 - sparse_categorical_accuracy: 0.9641\n",
            "Epoch 145/200\n",
            "10/10 [==============================] - 2s 165ms/step - loss: 0.1919 - sparse_categorical_accuracy: 0.9351\n",
            "Epoch 146/200\n",
            "10/10 [==============================] - 2s 168ms/step - loss: 0.2775 - sparse_categorical_accuracy: 0.8980\n",
            "Epoch 147/200\n",
            "10/10 [==============================] - 2s 166ms/step - loss: 0.1794 - sparse_categorical_accuracy: 0.9430\n",
            "Epoch 148/200\n",
            "10/10 [==============================] - 2s 165ms/step - loss: 0.1537 - sparse_categorical_accuracy: 0.9559\n",
            "Epoch 149/200\n",
            "10/10 [==============================] - 2s 164ms/step - loss: 0.1375 - sparse_categorical_accuracy: 0.9622\n",
            "Epoch 150/200\n",
            "10/10 [==============================] - 2s 166ms/step - loss: 0.1192 - sparse_categorical_accuracy: 0.9716\n",
            "Epoch 151/200\n",
            "10/10 [==============================] - 2s 166ms/step - loss: 0.1089 - sparse_categorical_accuracy: 0.9761\n",
            "Epoch 152/200\n",
            "10/10 [==============================] - 2s 166ms/step - loss: 0.1025 - sparse_categorical_accuracy: 0.9780\n",
            "Epoch 153/200\n",
            "10/10 [==============================] - 2s 163ms/step - loss: 0.1028 - sparse_categorical_accuracy: 0.9769\n",
            "Epoch 154/200\n",
            "10/10 [==============================] - 2s 165ms/step - loss: 0.1060 - sparse_categorical_accuracy: 0.9744\n",
            "Epoch 155/200\n",
            "10/10 [==============================] - 2s 167ms/step - loss: 0.0982 - sparse_categorical_accuracy: 0.9779\n",
            "Epoch 156/200\n",
            "10/10 [==============================] - 2s 162ms/step - loss: 0.1090 - sparse_categorical_accuracy: 0.9713\n",
            "Epoch 157/200\n",
            "10/10 [==============================] - 2s 167ms/step - loss: 0.0960 - sparse_categorical_accuracy: 0.9774\n",
            "Epoch 158/200\n",
            "10/10 [==============================] - 2s 166ms/step - loss: 0.0934 - sparse_categorical_accuracy: 0.9787\n",
            "Epoch 159/200\n",
            "10/10 [==============================] - 2s 165ms/step - loss: 0.0841 - sparse_categorical_accuracy: 0.9830\n",
            "Epoch 160/200\n",
            "10/10 [==============================] - 2s 166ms/step - loss: 0.0792 - sparse_categorical_accuracy: 0.9847\n",
            "Epoch 161/200\n",
            "10/10 [==============================] - 2s 167ms/step - loss: 0.0792 - sparse_categorical_accuracy: 0.9838\n",
            "Epoch 162/200\n",
            "10/10 [==============================] - 2s 167ms/step - loss: 0.0778 - sparse_categorical_accuracy: 0.9838\n",
            "Epoch 163/200\n",
            "10/10 [==============================] - 2s 166ms/step - loss: 0.0743 - sparse_categorical_accuracy: 0.9856\n",
            "Epoch 164/200\n",
            "10/10 [==============================] - 2s 166ms/step - loss: 0.0733 - sparse_categorical_accuracy: 0.9845\n",
            "Epoch 165/200\n",
            "10/10 [==============================] - 2s 167ms/step - loss: 0.0783 - sparse_categorical_accuracy: 0.9823\n",
            "Epoch 166/200\n",
            "10/10 [==============================] - 2s 168ms/step - loss: 0.0672 - sparse_categorical_accuracy: 0.9874\n",
            "Epoch 167/200\n",
            "10/10 [==============================] - 2s 167ms/step - loss: 0.1607 - sparse_categorical_accuracy: 0.9565\n",
            "Epoch 168/200\n",
            "10/10 [==============================] - 2s 163ms/step - loss: 1.5024 - sparse_categorical_accuracy: 0.6579\n",
            "Epoch 169/200\n",
            "10/10 [==============================] - 2s 167ms/step - loss: 0.8453 - sparse_categorical_accuracy: 0.6984\n",
            "Epoch 170/200\n",
            "10/10 [==============================] - 2s 164ms/step - loss: 0.6245 - sparse_categorical_accuracy: 0.7789\n",
            "Epoch 171/200\n",
            "10/10 [==============================] - 2s 162ms/step - loss: 0.4832 - sparse_categorical_accuracy: 0.8252\n",
            "Epoch 172/200\n",
            "10/10 [==============================] - 2s 165ms/step - loss: 0.3783 - sparse_categorical_accuracy: 0.8632\n",
            "Epoch 173/200\n",
            "10/10 [==============================] - 2s 163ms/step - loss: 0.2989 - sparse_categorical_accuracy: 0.8951\n",
            "Epoch 174/200\n",
            "10/10 [==============================] - 2s 166ms/step - loss: 0.2434 - sparse_categorical_accuracy: 0.9179\n",
            "Epoch 175/200\n",
            "10/10 [==============================] - 2s 166ms/step - loss: 0.2003 - sparse_categorical_accuracy: 0.9341\n",
            "Epoch 176/200\n",
            "10/10 [==============================] - 2s 165ms/step - loss: 0.1633 - sparse_categorical_accuracy: 0.9495\n",
            "Epoch 177/200\n",
            "10/10 [==============================] - 2s 165ms/step - loss: 0.1340 - sparse_categorical_accuracy: 0.9614\n",
            "Epoch 178/200\n",
            "10/10 [==============================] - 2s 167ms/step - loss: 0.1147 - sparse_categorical_accuracy: 0.9698\n",
            "Epoch 179/200\n",
            "10/10 [==============================] - 2s 166ms/step - loss: 0.0995 - sparse_categorical_accuracy: 0.9761\n",
            "Epoch 180/200\n",
            "10/10 [==============================] - 2s 167ms/step - loss: 0.0904 - sparse_categorical_accuracy: 0.9789\n",
            "Epoch 181/200\n",
            "10/10 [==============================] - 2s 168ms/step - loss: 0.0801 - sparse_categorical_accuracy: 0.9833\n",
            "Epoch 182/200\n",
            "10/10 [==============================] - 2s 162ms/step - loss: 0.0724 - sparse_categorical_accuracy: 0.9867\n",
            "Epoch 183/200\n",
            "10/10 [==============================] - 2s 164ms/step - loss: 0.0708 - sparse_categorical_accuracy: 0.9865\n",
            "Epoch 184/200\n",
            "10/10 [==============================] - 2s 164ms/step - loss: 0.0638 - sparse_categorical_accuracy: 0.9888\n",
            "Epoch 185/200\n",
            "10/10 [==============================] - 2s 166ms/step - loss: 0.0570 - sparse_categorical_accuracy: 0.9918\n",
            "Epoch 186/200\n",
            "10/10 [==============================] - 2s 167ms/step - loss: 0.0522 - sparse_categorical_accuracy: 0.9931\n",
            "Epoch 187/200\n",
            "10/10 [==============================] - 2s 166ms/step - loss: 0.0513 - sparse_categorical_accuracy: 0.9932\n",
            "Epoch 188/200\n",
            "10/10 [==============================] - 2s 166ms/step - loss: 0.0467 - sparse_categorical_accuracy: 0.9945\n",
            "Epoch 189/200\n",
            "10/10 [==============================] - 2s 167ms/step - loss: 0.0433 - sparse_categorical_accuracy: 0.9955\n",
            "Epoch 190/200\n",
            "10/10 [==============================] - 2s 166ms/step - loss: 0.0409 - sparse_categorical_accuracy: 0.9960\n",
            "Epoch 191/200\n",
            "10/10 [==============================] - 2s 164ms/step - loss: 0.0416 - sparse_categorical_accuracy: 0.9955\n",
            "Epoch 192/200\n",
            "10/10 [==============================] - 2s 165ms/step - loss: 0.0380 - sparse_categorical_accuracy: 0.9968\n",
            "Epoch 193/200\n",
            "10/10 [==============================] - 2s 167ms/step - loss: 0.0357 - sparse_categorical_accuracy: 0.9974\n",
            "Epoch 194/200\n",
            "10/10 [==============================] - 2s 164ms/step - loss: 0.0340 - sparse_categorical_accuracy: 0.9972\n",
            "Epoch 195/200\n",
            "10/10 [==============================] - 2s 167ms/step - loss: 0.0312 - sparse_categorical_accuracy: 0.9978\n",
            "Epoch 196/200\n",
            "10/10 [==============================] - 2s 166ms/step - loss: 0.0295 - sparse_categorical_accuracy: 0.9983\n",
            "Epoch 197/200\n",
            "10/10 [==============================] - 2s 166ms/step - loss: 0.0273 - sparse_categorical_accuracy: 0.9986\n",
            "Epoch 198/200\n",
            "10/10 [==============================] - 2s 168ms/step - loss: 0.0262 - sparse_categorical_accuracy: 0.9989\n",
            "Epoch 199/200\n",
            "10/10 [==============================] - 2s 167ms/step - loss: 0.0248 - sparse_categorical_accuracy: 0.9988\n",
            "Epoch 200/200\n",
            "10/10 [==============================] - 2s 164ms/step - loss: 0.0241 - sparse_categorical_accuracy: 0.9988\n"
          ],
          "name": "stdout"
        },
        {
          "output_type": "execute_result",
          "data": {
            "text/plain": [
              "<tensorflow.python.keras.callbacks.History at 0x7fb9f17e7240>"
            ]
          },
          "metadata": {
            "tags": []
          },
          "execution_count": 20
        }
      ]
    },
    {
      "cell_type": "markdown",
      "metadata": {
        "id": "KuUKkTS2YOpM",
        "colab_type": "text"
      },
      "source": [
        "**Evaluate the model**"
      ]
    },
    {
      "cell_type": "code",
      "metadata": {
        "id": "3jlaZvj2WoFA",
        "colab_type": "code",
        "colab": {
          "base_uri": "https://localhost:8080/",
          "height": 35
        },
        "outputId": "62cc7aa2-b4cc-49f5-c465-ef1b41f1e807"
      },
      "source": [
        "test_loss, test_accc = model.evaluate(X_test, y_test)"
      ],
      "execution_count": 22,
      "outputs": [
        {
          "output_type": "stream",
          "text": [
            "313/313 [==============================] - 1s 2ms/step - loss: 2.0457 - sparse_categorical_accuracy: 0.6975\n"
          ],
          "name": "stdout"
        }
      ]
    },
    {
      "cell_type": "code",
      "metadata": {
        "id": "F3b-dr98YSCt",
        "colab_type": "code",
        "colab": {
          "base_uri": "https://localhost:8080/",
          "height": 35
        },
        "outputId": "fe2f3cc1-6538-4e30-c011-a0ab604b3975"
      },
      "source": [
        "print('Test loss is {}'.format(test_loss))"
      ],
      "execution_count": 23,
      "outputs": [
        {
          "output_type": "stream",
          "text": [
            "Test loss is 2.045703887939453\n"
          ],
          "name": "stdout"
        }
      ]
    }
  ]
}